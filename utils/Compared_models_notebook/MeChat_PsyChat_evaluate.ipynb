{
  "cells": [
    {
      "cell_type": "code",
      "execution_count": null,
      "metadata": {
        "id": "klH2MgYLVnP0"
      },
      "outputs": [],
      "source": [
        "!pip install transformers==4.29.2\n",
        "!pip install sentencepiece\n",
        "!pip install torch==2.2.0"
      ]
    },
    {
      "cell_type": "code",
      "execution_count": null,
      "metadata": {
        "id": "FLVXSfoIWdtm"
      },
      "outputs": [],
      "source": [
        "!pip install cpm_kernels ujson tensorboard datasets bitsandbytes scipy wandb peft==0.3.0 uvicorn==0.21.1 fastapi==0.95.1 pydantic==1.10.7"
      ]
    },
    {
      "cell_type": "code",
      "execution_count": null,
      "metadata": {
        "colab": {
          "background_save": true
        },
        "id": "6aO9c4FvWf6R"
      },
      "outputs": [],
      "source": [
        "from transformers import AutoTokenizer, AutoModel\n",
        "import json\n",
        "\n",
        "def get_dialogue_history(dialogue_history_list: list):\n",
        "\n",
        "    dialogue_history_tmp = []\n",
        "    for item in dialogue_history_list:\n",
        "        if item['role'] == 'counselor':\n",
        "            text = '咨询师：'+ item['content']\n",
        "        else:\n",
        "            text = '来访者：'+ item['content']\n",
        "        dialogue_history_tmp.append(text)\n",
        "\n",
        "    dialogue_history = '\\n'.join(dialogue_history_tmp)\n",
        "\n",
        "    return dialogue_history + '\\n' + '咨询师：'\n",
        "\n",
        "def get_instruction(dialogue_history):\n",
        "    instruction = f'''现在你扮演一位专业的心理咨询师，你具备丰富的心理学和心理健康知识。你擅长运用多种心理咨询技巧，例如认知行为疗法原则、动机访谈技巧和解决问题导向的短期疗法。以温暖亲切的语气，展现出共情和对来访者感受的深刻理解。以自然的方式与来访者进行对话，避免过长或过短的回应，确保回应流畅且类似人类的对话。提供深层次的指导和洞察，使用具体的心理概念和例子帮助来访者更深入地探索思想和感受。避免教导式的回应，更注重共情和尊重来访者的感受。根据来访者的反馈调整回应，确保回应贴合来访者的情境和需求。请为以下的对话生成一个回复。\n",
        "\n",
        "对话：\n",
        "{dialogue_history}'''\n",
        "\n",
        "    return instruction\n",
        "\n",
        "\n",
        "tokenizer = AutoTokenizer.from_pretrained('qiuhuachuan/PsyChat', trust_remote_code=True) # MeChat\n",
        "model = AutoModel.from_pretrained('qiuhuachuan/PsyChat', trust_remote_code=True).half().cuda()\n",
        "model = model.eval()\n",
        "\n",
        "with open('./auto_eval_chat_data.json') as f:\n",
        "    data = json.load(f)\n",
        "\n",
        "    for i in range(100):\n",
        "        dialogue_history_with_label = []\n",
        "        dialogue_history_with_output = []\n",
        "\n",
        "        dialogue = data[i]['messages']\n",
        "        for j in range(0,10,2):\n",
        "            usr_msg = dialogue[j]['content']\n",
        "            dialogue_history_with_label.append({\n",
        "                'role': 'client',\n",
        "                'content': usr_msg\n",
        "            })\n",
        "            dialogue_history_with_output.append({\n",
        "                'role': 'client',\n",
        "                'content': usr_msg\n",
        "            })\n",
        "\n",
        "            dialogue_history = get_dialogue_history(dialogue_history_list=dialogue_history_with_output)\n",
        "            instruction = get_instruction(dialogue_history=dialogue_history)\n",
        "            response, history = model.chat(tokenizer, instruction, history=[], temperature=0.8, top_p=0.8)\n",
        "            dialogue_history_with_output.append({\n",
        "                'role': 'counselor',\n",
        "                'content': response\n",
        "            })\n",
        "            print(dialogue_history_with_output)\n",
        "            dialogue[j+1]['PsyChat_response_history_with_output'] = response\n",
        "            print(data)\n",
        "\n",
        "            dialogue_history = get_dialogue_history(dialogue_history_list=dialogue_history_with_label)\n",
        "            instruction = get_instruction(dialogue_history=dialogue_history)\n",
        "            response, history = model.chat(tokenizer, instruction, history=[], temperature=0.8, top_p=0.8)\n",
        "            dialogue_history_with_label.append({\n",
        "                'role': 'counselor',\n",
        "                'content': dialogue[j+1]['content']\n",
        "            })\n",
        "            dialogue[j+1]['PsyChat_response_history_with_label'] = response\n",
        "\n",
        "\n",
        "with open('./PsyChat_result.json', 'w') as res_f:\n",
        "    json.dump(data, res_f, ensure_ascii=False, indent=2)\n",
        "\n"
      ]
    },
    {
      "cell_type": "code",
      "execution_count": null,
      "metadata": {
        "id": "Gwow-06GWb9j"
      },
      "outputs": [],
      "source": []
    }
  ],
  "metadata": {
    "accelerator": "GPU",
    "colab": {
      "gpuType": "A100",
      "provenance": []
    },
    "kernelspec": {
      "display_name": "Python 3",
      "name": "python3"
    },
    "language_info": {
      "name": "python"
    }
  },
  "nbformat": 4,
  "nbformat_minor": 0
}